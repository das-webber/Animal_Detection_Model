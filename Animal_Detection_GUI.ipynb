{
 "cells": [
  {
   "cell_type": "code",
   "execution_count": null,
   "id": "9e5cfa49",
   "metadata": {},
   "outputs": [],
   "source": [
    "import torch\n",
    "import cv2\n",
    "import threading\n",
    "import numpy as np\n",
    "from tkinter import Tk, messagebox, Label, Button, filedialog\n",
    "from PIL import Image,ImageTk\n"
   ]
  },
  {
   "cell_type": "code",
   "execution_count": null,
   "id": "6873906c",
   "metadata": {},
   "outputs": [],
   "source": [
    "from ultralytics import yolov5\n",
    "\n",
    "model= torch.hub.load('ultralytics/yolov5','yolov5')"
   ]
  },
  {
   "cell_type": "code",
   "execution_count": null,
   "id": "bbcc900a",
   "metadata": {},
   "outputs": [],
   "source": [
    "carnivores = ['lion','tiger','cheetah','leapord','hyena','fox','polar bear']"
   ]
  },
  {
   "cell_type": "code",
   "execution_count": null,
   "id": "b57ce254",
   "metadata": {},
   "outputs": [],
   "source": [
    "root= Tk()\n",
    "root.title(\"Animal Detection System\")\n",
    "root.geometry(\"800x600\")\n",
    "\n",
    "img_label= Label(root)\n",
    "img_label.pack()\n"
   ]
  },
  {
   "cell_type": "code",
   "execution_count": null,
   "id": "74520d78",
   "metadata": {},
   "outputs": [],
   "source": [
    "def detect_animals_in_image(filepath):\n",
    "    img= cv2.imread(filepath)\n",
    "    results= model(img)\n",
    "    detections=results.pandas().xyxy[0]\n",
    "\n",
    "    carnivore_count=0\n",
    "\n",
    "    for _,row in detections.iterrows():\n",
    "        label= row['name']\n",
    "        x1,y1,x2,y2= int(row['xmin']),int(row['ymin']),int(row['xmax']),int(row['ymax'])\n",
    "        color = (0,0,255) if label.lower() in carnivores else color=(0,255,0)\n",
    "\n",
    "        if label.lower() in carnivores:\n",
    "            carnivore_count +=1\n",
    "        cv2.rectangle(img,(x1,y1),(x2,y2),color,2)\n",
    "        cv2.putText(img,label,(x1, y1 - 10),cv2.FONT_HERSHEY_SIMPLEX,0.5,color,2)\n",
    "\n",
    "    messagebox.showinfo(\"Detection Result\", f\"Carnivores Detected: {carnivore_count}\")\n",
    "\n",
    "    img_rgb= cv2.cvtColor(img,cv2.COLOR_BGR2RGB)\n",
    "    img_pil=Image.fromarray(img_rgb)\n",
    "    img_tk=ImageTk.PhotoImage(image=img_pil)\n",
    "    img_label.configure(image=img_tk)\n",
    "    img_label.image= img_tk\n",
    "\n",
    "def detect_animals_in_video(filepath):\n",
    "    cap = cv2.VideoCapture(filepath)\n",
    "\n",
    "    def process_video():\n",
    "        carnivore_count=0\n",
    "        while True:\n",
    "            ret,frame=cap.read()\n",
    "            if not ret:\n",
    "                break\n",
    "\n",
    "            results= model(frame)\n",
    "            detections=results.pandas().xyxy[0]\n",
    "            frame_carnivores = 0\n",
    "\n",
    "\n",
    "            for _,row in detections.iterrows():\n",
    "                label=row['name']\n",
    "                x1,y1,x2,y2=int(row['xmin']),int(row['ymin']),int(row['xmax']),int(row['ymax'])\n",
    "                color=(0,0,255) if label.lower() in carnivores else color=(0,255,0)\n",
    "                if label.lower() in carnivores:\n",
    "                    frame_carnivores +=1\n",
    "                cv2.rectangle(frame, (x1,y1), (x2,y2), color, 2)\n",
    "                cv2.putText(frame,label, (x1,y1-10), cv2.FONT_HERSHEY_SIMPLEX, 0.5, color, 2)\n",
    "            \n",
    "            carnivore_count += frame_carnivores\n",
    "\n",
    "            img_rgb= cv2.cvtColor(frame,cv2.COLOR_BGR2RGB)\n",
    "            img_pil=Image.fromarray(img_rgb)\n",
    "            img_tk=ImageTk.PhotoImage(image=img_pil)\n",
    "            img_label.configure(image=img_tk)\n",
    "            img_label.image= img_tk\n",
    "            root.update()\n",
    "\n",
    "        cap.release()\n",
    "        messagebox.showinfo(\"Video Analysis Completed\",f\"Total carnivores detected: {carnivore_count}\")\n",
    "\n",
    "    threading.Thread(target=process_video).start()\n",
    "\n",
    "def browse_img():\n",
    "    filepath=filedialog.askopenfilename(filetypes=[(\"Image files\",\"*.jpg;*.jpeg;*.png\")])\n",
    "    if filepath:\n",
    "        detect_animals_in_image(filepath)\n",
    "\n",
    "def browse_video():\n",
    "    filepath=filedialog.askopenfilename(filetypes=[\"Video files\",\"*.mp4;*.avi;*.mov\"])\n",
    "    if filepath:\n",
    "        detect_animals_in_video(filepath)\n",
    "\n",
    "Button(root, text=\"Upload Image\", command=browse_img,width=20, bg=\"skyblue\").pack(pady=10)\n",
    "Button(root, text=\"Upload Video\", command= browse_video, width=20, bg=\"lightgreen\").pack(pady=10)\n",
    "\n",
    "\n",
    "root.mainloop()"
   ]
  },
  {
   "cell_type": "code",
   "execution_count": null,
   "id": "e6c1cc15",
   "metadata": {},
   "outputs": [],
   "source": []
  }
 ],
 "metadata": {
  "kernelspec": {
   "display_name": "Python 3",
   "language": "python",
   "name": "python3"
  },
  "language_info": {
   "codemirror_mode": {
    "name": "ipython",
    "version": 3
   },
   "file_extension": ".py",
   "mimetype": "text/x-python",
   "name": "python",
   "nbconvert_exporter": "python",
   "pygments_lexer": "ipython3",
   "version": "3.10.11"
  }
 },
 "nbformat": 4,
 "nbformat_minor": 5
}
